{
 "cells": [
  {
   "cell_type": "markdown",
   "metadata": {},
   "source": [
    "Markov Jump Process: Reaction Network\n",
    "======================================"
   ]
  },
  {
   "cell_type": "markdown",
   "metadata": {
    "raw_mimetype": "text/restructuredtext"
   },
   "source": [
    "In the following, we fit stochastic chemical reaction kinetics with pyABC."
   ]
  },
  {
   "cell_type": "markdown",
   "metadata": {},
   "source": [
    "We consider the Markov jump process model $m_1$ for conversion of (chemical) species $X$ to species $Y$:\n",
    "\n",
    "\n",
    "$$\n",
    "   m_1: X \\xrightarrow{k_1} Y.\n",
    "$$"
   ]
  },
  {
   "cell_type": "markdown",
   "metadata": {},
   "source": [
    "The model is equipped with a single rate parameter $k_1$.\n",
    "To simulate the model, we define a simple Gillespie simulator:"
   ]
  },
  {
   "cell_type": "code",
   "execution_count": 1,
   "metadata": {},
   "outputs": [],
   "source": [
    "import numpy as np\n",
    "\n",
    "def h(x, pre, c):\n",
    "    return (x**pre).prod(1) * c\n",
    "\n",
    "def gillespie(x, c, pre, post, max_t):\n",
    "    \"\"\"\n",
    "    Gillespie simulation\n",
    "    Parameters\n",
    "    ----------\n",
    "    x: 1D array of size n_species. The initial numbers.\n",
    "    c: 1D array of size n_reactions. The reaction rates.\n",
    "    pre: array of size n_reactions x n_species\n",
    "        What is to be consumed.\n",
    "    post: array of size n_reactions x n_species. What is to be produced\n",
    "    max_t: int. Timulate up to time max_t\n",
    "\n",
    "    Returns\n",
    "    -------\n",
    "    t, X: 1d array, 2d array\n",
    "        t: The time points.\n",
    "        X: The history of the species.\n",
    "           ``X.shape == (t.size, x.size)``\n",
    "    \"\"\"\n",
    "    t = 0\n",
    "    t_store = [t]\n",
    "    x_store = [x.copy()]\n",
    "    S = post - pre\n",
    "\n",
    "    while t < max_t:\n",
    "        h_vec = h(x, pre, c)\n",
    "        h0 = h_vec.sum()\n",
    "        if h0 == 0:\n",
    "            break\n",
    "        delta_t = np.random.exponential(1 / h0)\n",
    "        # no reaction can occur any more\n",
    "        if not np.isfinite(delta_t):\n",
    "            t_store.append(max_t)\n",
    "            x_store.append(x)\n",
    "            break\n",
    "        reaction = np.random.choice(c.size, p=h_vec/h0)\n",
    "        t = t + delta_t\n",
    "        x = x + S[reaction]\n",
    "\n",
    "        t_store.append(t)\n",
    "        x_store.append(x)\n",
    "\n",
    "    return np.array(t_store), np.array(x_store)\n"
   ]
  },
  {
   "cell_type": "markdown",
   "metadata": {},
   "source": [
    "Next, we define the model in terms of ther initial molecule numbers $x_0$, an array ``pre`` which determines what is to be consumed (the left hand side of the reaction equations) and an array ``post`` which determines what is to be produced (the right hand side of the reaction equations).\n",
    "Moreover, we define that the simulation time should not exceed ``MAX_T`` seconds.\n",
    "\n",
    "Model $m_1$ starts with initial concentrations $X=40$ and $Y=3$.\n",
    "The reaction $m_1: X \\xrightarrow{k_1} Y.$ is encoded in ``pre = [[1, 0]]`` and ``post = [[0, 1]]``."
   ]
  },
  {
   "cell_type": "code",
   "execution_count": 2,
   "metadata": {},
   "outputs": [],
   "source": [
    "MAX_T = 0.1\n",
    "\n",
    "class Model_m1:\n",
    "    __name__ = \"Model 1\"\n",
    "    x0 = np.array([40, 3])   # Initial molecule numbers\n",
    "    pre = np.array([[1, 0]], dtype=int)\n",
    "    post = np.array([[0, 1]])\n",
    "    scale = \"log10\"\n",
    "    def __call__(self, par):\n",
    "        if self.scale == \"log10\":\n",
    "            rate = pow(10,par[\"rate\"])\n",
    "        elif self.scale == \"linear\":\n",
    "            rate = par[\"rate\"]\n",
    "        t, X = gillespie(self.x0,\n",
    "                         np.array(rate),\n",
    "                         self.pre, self.post,\n",
    "                         MAX_T)\n",
    "        return {\"t\": t, \"X\" : X}\n"
   ]
  },
  {
   "cell_type": "markdown",
   "metadata": {},
   "source": [
    "We add the option to use eaiter a log or linear scale for the inference problem"
   ]
  },
  {
   "cell_type": "markdown",
   "metadata": {},
   "source": [
    "Then, we draw one stochastic simulation from model $m_1$ using the rate for k1= 1.5 in the log scale."
   ]
  },
  {
   "cell_type": "code",
   "execution_count": 3,
   "metadata": {
    "scrolled": true
   },
   "outputs": [
    {
     "data": {
      "image/png": "[encoded data removed]",
      "text/plain": [
       "<Figure size 432x288 with 1 Axes>"
      ]
     },
     "metadata": {
      "needs_background": "light"
     },
     "output_type": "display_data"
    }
   ],
   "source": [
    "%matplotlib inline\n",
    "import matplotlib.pyplot as plt\n",
    "\n",
    "observations_m1 = Model_m1()({\"rate\": 1.5})\n",
    "axes = plt.axes()\n",
    "axes.step(observations_m1[\"t\"], observations_m1[\"X\"]);\n",
    "axes.legend([\"Species X\", \"Species Y\"]);\n",
    "axes.set_xlabel(\"Time\");\n",
    "axes.set_ylabel(\"Concentration\");\n",
    "axes.set_title(\"model m1\");"
   ]
  },
  {
   "cell_type": "markdown",
   "metadata": {},
   "source": [
    "We observe that species $X$ is converted into species $Y$ in both cases.\n",
    "The difference of the concentrations over time can be quite subtle.\n",
    "\n",
    "We define a distance function as $L_1$ norm of two trajectories, evaluated at 20 time points:\n",
    "\n",
    "$$\n",
    "  \\mathrm{distance}(X_1, X_2) =\n",
    "     \\frac{1}{N}\\sum_{n=1}^{N} \n",
    "           \\left  |X_1(t_n) -X_2(t_n) \n",
    "           \\right|, \\quad t_n = \\frac{n}{N}T, \\quad  N=20 \\,.\n",
    "$$"
   ]
  },
  {
   "cell_type": "markdown",
   "metadata": {},
   "source": [
    "Note that we only consider the concentration of species $Y$ for distance calculation. And in code:"
   ]
  },
  {
   "cell_type": "code",
   "execution_count": 4,
   "metadata": {},
   "outputs": [],
   "source": [
    "N_TEST_TIMES = 20\n",
    "\n",
    "t_test_times = np.linspace(0, MAX_T, N_TEST_TIMES)\n",
    "def distance(x, y):\n",
    "    xt_ind = np.searchsorted(x[\"t\"], t_test_times) - 1\n",
    "    yt_ind = np.searchsorted(y[\"t\"], t_test_times) - 1\n",
    "    error = (np.absolute(x[\"X\"][:,1][xt_ind]\n",
    "                        - y[\"X\"][:,1][yt_ind]).sum()\n",
    "             / t_test_times.size)\n",
    "    return error\n"
   ]
  },
  {
   "cell_type": "markdown",
   "metadata": {},
   "source": [
    "For ABC, we choose a uniform prior over the interval $[-1, 4]$ for the rate parameters:"
   ]
  },
  {
   "cell_type": "code",
   "execution_count": 5,
   "metadata": {},
   "outputs": [],
   "source": [
    "from pyabc import Distribution, RV\n",
    "\n",
    "prior = Distribution(rate=RV(\"uniform\",-1, 4))\n"
   ]
  },
  {
   "cell_type": "markdown",
   "metadata": {},
   "source": [
    "We initialize the ABCSMC class passing model $m_1$, its prior and the distance function."
   ]
  },
  {
   "cell_type": "code",
   "execution_count": 6,
   "metadata": {},
   "outputs": [
    {
     "name": "stderr",
     "output_type": "stream",
     "text": [
      "INFO:Sampler:Parallelizing the sampling on 12 cores.\n"
     ]
    }
   ],
   "source": [
    "from pyabc import ABCSMC\n",
    "\n",
    "abc = ABCSMC(Model_m1(),\n",
    "             prior,\n",
    "             distance,\n",
    "             population_size=200)\n"
   ]
  },
  {
   "cell_type": "markdown",
   "metadata": {},
   "source": [
    "We initialize a new ABC run, taking as observed data the one generated by model $m1$.\n",
    "The ABC run is to be stored in the sqlite database located at ``/tmp/mjp.db``."
   ]
  },
  {
   "cell_type": "code",
   "execution_count": 7,
   "metadata": {},
   "outputs": [
    {
     "name": "stderr",
     "output_type": "stream",
     "text": [
      "INFO:History:Start <ABCSMC(id=23, start_time=2020-10-04 18:53:30.822384, end_time=None)>\n"
     ]
    }
   ],
   "source": [
    "abc_id = abc.new(\"sqlite:////tmp/mjp.db\", observations_m1)\n"
   ]
  },
  {
   "cell_type": "markdown",
   "metadata": {},
   "source": [
    "We start pyABC which automatically parallelizes across all available cores."
   ]
  },
  {
   "cell_type": "code",
   "execution_count": 8,
   "metadata": {},
   "outputs": [
    {
     "name": "stderr",
     "output_type": "stream",
     "text": [
      "INFO:ABC:Calibration sample before t=0.\n",
      "INFO:Epsilon:initial epsilon is 10.6\n",
      "INFO:ABC:t: 0, eps: 10.6.\n",
      "INFO:ABC:Acceptance rate: 200 / 432 = 4.6296e-01, ESS=2.0000e+02.\n",
      "INFO:ABC:t: 1, eps: 8.424999999999995.\n",
      "INFO:ABC:Acceptance rate: 200 / 442 = 4.5249e-01, ESS=1.8838e+02.\n",
      "INFO:ABC:t: 2, eps: 5.5.\n",
      "INFO:ABC:Acceptance rate: 200 / 434 = 4.6083e-01, ESS=1.9805e+02.\n",
      "INFO:ABC:t: 3, eps: 3.0800903117392813.\n",
      "INFO:ABC:Acceptance rate: 200 / 458 = 4.3668e-01, ESS=1.9781e+02.\n",
      "INFO:ABC:t: 4, eps: 2.25.\n",
      "INFO:ABC:Acceptance rate: 200 / 600 = 3.3333e-01, ESS=1.8208e+02.\n",
      "INFO:ABC:t: 5, eps: 1.85.\n",
      "INFO:ABC:Acceptance rate: 200 / 952 = 2.1008e-01, ESS=1.3167e+02.\n",
      "INFO:ABC:t: 6, eps: 1.6.\n",
      "INFO:ABC:Acceptance rate: 200 / 1809 = 1.1056e-01, ESS=1.5393e+02.\n",
      "INFO:ABC:t: 7, eps: 1.4.\n",
      "INFO:ABC:Acceptance rate: 200 / 2982 = 6.7069e-02, ESS=1.6717e+02.\n",
      "INFO:ABC:t: 8, eps: 1.25.\n",
      "INFO:ABC:Acceptance rate: 200 / 5942 = 3.3659e-02, ESS=1.2745e+02.\n",
      "INFO:ABC:t: 9, eps: 1.15.\n",
      "INFO:ABC:Acceptance rate: 200 / 10902 = 1.8345e-02, ESS=1.6970e+02.\n",
      "INFO:ABC:t: 10, eps: 1.05.\n",
      "INFO:ABC:Acceptance rate: 200 / 15008 = 1.3326e-02, ESS=1.5477e+02.\n",
      "INFO:History:Done <ABCSMC(id=23, start_time=2020-10-04 18:53:30.822384, end_time=2020-10-04 18:53:50.252105)>\n"
     ]
    }
   ],
   "source": [
    "history = abc.run(minimum_epsilon=0.1, max_nr_populations=11)\n"
   ]
  },
  {
   "cell_type": "markdown",
   "metadata": {},
   "source": [
    "lets inspect the distribution of the rate parameter for model $m_1$\n",
    "\n"
   ]
  },
  {
   "cell_type": "code",
   "execution_count": 9,
   "metadata": {},
   "outputs": [
    {
     "data": {
      "image/png": "[encoded data removed]",
      "text/plain": [
       "<Figure size 432x288 with 1 Axes>"
      ]
     },
     "metadata": {
      "needs_background": "light"
     },
     "output_type": "display_data"
    }
   ],
   "source": [
    "from pyabc.visualization import plot_kde_1d\n",
    "import math\n",
    "axes = plt.axes()\n",
    "\n",
    "axes.axvline(1.5, color=\"black\", linestyle=\"dotted\")\n",
    "for t in range(0, history.n_populations, 2):\n",
    "    df, w = history.get_distribution(t=t)\n",
    "    if len(w) > 0:  # Particles in a model might die out\n",
    "        plot_kde_1d(df, w, \"rate\", ax=axes, label=f\"t={t}\",\n",
    "                    xmin=-1, xmax=4,\n",
    "                    numx=200)\n"
   ]
  },
  {
   "cell_type": "markdown",
   "metadata": {},
   "source": [
    "The true rate is a little harder to interpret over the posterior over model $m_1$. Apparently a rate between 1.2 and 1.8 yields data most similar to the observed data. The dash line represents the true parameter ($k1=1.5$)\n",
    "\n"
   ]
  },
  {
   "cell_type": "markdown",
   "metadata": {},
   "source": [
    "Now, lets consider another Markov jump process models $m_2$ for the same conversion of the chemical species:\n",
    "\n",
    "$$\n",
    "  m_2: X + Y \\xrightarrow{k_2} 2Y\\\\\n",
    "$$\n"
   ]
  },
  {
   "cell_type": "markdown",
   "metadata": {},
   "source": [
    "Model $m_2$ inherits the initial concentration from model $m_1$.\n",
    "The reaction $X + Y \\xrightarrow{k_2} 2Y$ is incoded in ``pre = [[1, 1]]`` and ``post = [[0, 2]]``."
   ]
  },
  {
   "cell_type": "code",
   "execution_count": 10,
   "metadata": {},
   "outputs": [],
   "source": [
    "class Model_m2(Model_m1):\n",
    "    __name__ = \"Model 2\"\n",
    "    pre = np.array([[1, 1]], dtype=int)\n",
    "    post = np.array([[0, 2]])\n",
    "    scale=\"log10\""
   ]
  },
  {
   "cell_type": "markdown",
   "metadata": {},
   "source": [
    "Now, lets draw one stochastic simulation from both models side by side using different rates for $k1=1.5$ and $k2=0.3617$."
   ]
  },
  {
   "cell_type": "code",
   "execution_count": 12,
   "metadata": {},
   "outputs": [
    {
     "data": {
      "image/png": "[encoded data removed]",
      "text/plain": [
       "<Figure size 864x288 with 2 Axes>"
      ]
     },
     "metadata": {
      "needs_background": "light"
     },
     "output_type": "display_data"
    }
   ],
   "source": [
    "observations = [Model_m1()({\"rate\": 1.5}),\n",
    "                Model_m2()({\"rate\": 0.3617})]\n",
    "fig, axes = plt.subplots(ncols=2)\n",
    "fig.set_size_inches((12, 4))\n",
    "for ax, title, obs in zip(axes, [\"Model m1\", \"Model m2\"],\n",
    "                          observations):\n",
    "    ax.step(obs[\"t\"], obs[\"X\"]);\n",
    "    ax.legend([\"Species X\", \"Species Y\"]);\n",
    "    ax.set_xlabel(\"Time\");\n",
    "    ax.set_ylabel(\"Concentration\");\n",
    "    ax.set_title(title);\n"
   ]
  },
  {
   "cell_type": "markdown",
   "metadata": {},
   "source": [
    "We observe that species $X$ is converted into species $Y$ in both cases.\n",
    "The difference of the concentrations over time can be quite subtle.\n",
    "\n"
   ]
  },
  {
   "cell_type": "markdown",
   "metadata": {},
   "source": [
    "Next, lets initialize the ABCSMC class again by passing the two models ($m_1$ and $m_2$), their priors and the same distance function as before."
   ]
  },
  {
   "cell_type": "code",
   "execution_count": 13,
   "metadata": {
    "scrolled": true
   },
   "outputs": [
    {
     "name": "stderr",
     "output_type": "stream",
     "text": [
      "INFO:Sampler:Parallelizing the sampling on 12 cores.\n"
     ]
    }
   ],
   "source": [
    "from pyabc.populationstrategy import AdaptivePopulationSize\n",
    "\n",
    "abc = ABCSMC([Model_m1(),\n",
    "              Model_m2()],\n",
    "             [prior, prior],\n",
    "             distance,\n",
    "             population_size=AdaptivePopulationSize(500, 0.12))\n"
   ]
  },
  {
   "cell_type": "markdown",
   "metadata": {},
   "source": [
    "This time, we will initialize a new ABC run, taking as observed data the one generated by model $m2$.\n",
    "The ABC run is to be stored in the same database located at ``/tmp/mjp.db``."
   ]
  },
  {
   "cell_type": "code",
   "execution_count": 14,
   "metadata": {},
   "outputs": [
    {
     "name": "stderr",
     "output_type": "stream",
     "text": [
      "INFO:History:Start <ABCSMC(id=24, start_time=2020-10-04 18:54:01.421721, end_time=None)>\n"
     ]
    }
   ],
   "source": [
    "abc_id = abc.new(\"sqlite:////tmp/mjp.db\", observations[1])"
   ]
  },
  {
   "cell_type": "code",
   "execution_count": 15,
   "metadata": {
    "scrolled": false
   },
   "outputs": [
    {
     "name": "stderr",
     "output_type": "stream",
     "text": [
      "INFO:ABC:Calibration sample before t=0.\n",
      "INFO:Epsilon:initial epsilon is 11.5\n",
      "INFO:ABC:t: 0, eps: 11.5.\n",
      "INFO:ABC:Acceptance rate: 500 / 817 = 6.1200e-01, ESS=5.0000e+02.\n",
      "INFO:Adaptation:Change nr particles 500 -> 174\n",
      "INFO:ABC:t: 1, eps: 10.75.\n",
      "INFO:ABC:Acceptance rate: 174 / 348 = 5.0000e-01, ESS=1.6675e+02.\n",
      "INFO:Adaptation:Change nr particles 174 -> 192\n",
      "INFO:ABC:t: 2, eps: 6.889584199662094.\n",
      "INFO:ABC:Acceptance rate: 192 / 402 = 4.7761e-01, ESS=1.8952e+02.\n",
      "INFO:Adaptation:Change nr particles 192 -> 214\n",
      "INFO:ABC:t: 3, eps: 4.45.\n",
      "INFO:ABC:Acceptance rate: 214 / 514 = 4.1634e-01, ESS=2.0449e+02.\n",
      "INFO:Adaptation:Change nr particles 214 -> 227\n",
      "INFO:ABC:t: 4, eps: 3.1246279101294805.\n",
      "INFO:ABC:Acceptance rate: 227 / 782 = 2.9028e-01, ESS=1.7775e+02.\n",
      "INFO:Adaptation:Change nr particles 227 -> 178\n",
      "INFO:ABC:t: 5, eps: 2.3.\n",
      "INFO:ABC:Acceptance rate: 178 / 752 = 2.3670e-01, ESS=1.5058e+02.\n",
      "INFO:Adaptation:Change nr particles 178 -> 152\n",
      "INFO:ABC:t: 6, eps: 1.65.\n",
      "INFO:ABC:Acceptance rate: 152 / 907 = 1.6759e-01, ESS=1.2119e+02.\n",
      "INFO:Adaptation:Change nr particles 152 -> 65\n",
      "INFO:ABC:t: 7, eps: 1.3.\n",
      "INFO:ABC:Acceptance rate: 65 / 564 = 1.1525e-01, ESS=5.6366e+01.\n",
      "INFO:Adaptation:Change nr particles 65 -> 75\n",
      "INFO:ABC:t: 8, eps: 1.1.\n",
      "INFO:ABC:Acceptance rate: 75 / 996 = 7.5301e-02, ESS=6.0405e+01.\n",
      "INFO:Adaptation:Change nr particles 75 -> 90\n",
      "INFO:ABC:t: 9, eps: 0.9782186834168791.\n",
      "INFO:ABC:Acceptance rate: 90 / 2084 = 4.3186e-02, ESS=7.2801e+01.\n",
      "INFO:Adaptation:Change nr particles 90 -> 74\n",
      "INFO:ABC:t: 10, eps: 0.85.\n",
      "INFO:ABC:Acceptance rate: 74 / 3453 = 2.1431e-02, ESS=7.1128e+01.\n",
      "INFO:Adaptation:Change nr particles 74 -> 94\n",
      "INFO:ABC:t: 11, eps: 0.75.\n",
      "INFO:ABC:Acceptance rate: 94 / 8756 = 1.0735e-02, ESS=8.3384e+01.\n",
      "INFO:Adaptation:Change nr particles 94 -> 59\n",
      "INFO:History:Done <ABCSMC(id=24, start_time=2020-10-04 18:54:01.421721, end_time=2020-10-04 18:54:24.141892)>\n"
     ]
    }
   ],
   "source": [
    "history = abc.run(minimum_epsilon=0.1, max_nr_populations=12)\n"
   ]
  },
  {
   "cell_type": "markdown",
   "metadata": {},
   "source": [
    "We first inspect the model probabilities.\n"
   ]
  },
  {
   "cell_type": "code",
   "execution_count": 16,
   "metadata": {
    "scrolled": true
   },
   "outputs": [
    {
     "data": {
      "image/png": "[encoded data removed]",
      "text/plain": [
       "<Figure size 432x288 with 1 Axes>"
      ]
     },
     "metadata": {
      "needs_background": "light"
     },
     "output_type": "display_data"
    }
   ],
   "source": [
    "ax = history.get_model_probabilities().plot.bar();\n",
    "ax.set_ylabel(\"Probability\");\n",
    "ax.set_xlabel(\"Generation\");\n",
    "ax.legend([1, 2], title=\"Model\", ncol=2,\n",
    "          loc=\"lower center\", bbox_to_anchor=(.5, 1));\n"
   ]
  },
  {
   "cell_type": "markdown",
   "metadata": {},
   "source": [
    "The mass at model $m2$ increased, the mass at model $m1$ decreased slowly.\n",
    "The correct model $m2$ is detected towards the later generations.\n",
    "We then inspect the distribution of the rate parameters:"
   ]
  },
  {
   "cell_type": "code",
   "execution_count": 17,
   "metadata": {},
   "outputs": [
    {
     "data": {
      "image/png": "[encoded data removed]",
      "text/plain": [
       "<Figure size 432x432 with 2 Axes>"
      ]
     },
     "metadata": {
      "needs_background": "light"
     },
     "output_type": "display_data"
    }
   ],
   "source": [
    "from pyabc.visualization import plot_kde_1d\n",
    "fig, axes = plt.subplots(2)\n",
    "fig.set_size_inches((6, 6))\n",
    "axes[1].axvline(0.3617, color=\"black\", linestyle=\"dotted\")\n",
    "\n",
    "for m, ax in enumerate(axes):\n",
    "    for t in range(0, history.n_populations, 2):\n",
    "        df, w = history.get_distribution(m=m, t=t)\n",
    "        if len(w) > 0:  # Particles in a model might die out\n",
    "            plot_kde_1d(df, w, \"rate\", ax=ax, label=f\"t={t}\",\n",
    "                        xmin=-1, xmax=4,\n",
    "                        numx=200)\n",
    "    ax.set_title(f\"Model {m+1}\")\n",
    "\n",
    "fig.tight_layout()"
   ]
  },
  {
   "cell_type": "markdown",
   "metadata": {},
   "source": [
    "The true rate is closely approximated by the posterior over the rate of model $m2$.\n",
    "It is a little harder to interpret the posterior over model $m1$.\n",
    "Apparently a rate between 20 and 40 yields data most similar to the observed data.\n",
    "\n",
    "Lastly, pyABC also offers various other visualization routines in order to analyze the parameter estimation run:"
   ]
  },
  {
   "cell_type": "code",
   "execution_count": 18,
   "metadata": {},
   "outputs": [
    {
     "data": {
      "image/png": "[encoded data removed]",
      "text/plain": [
       "<Figure size 432x288 with 1 Axes>"
      ]
     },
     "metadata": {
      "needs_background": "light"
     },
     "output_type": "display_data"
    }
   ],
   "source": [
    "from pyabc import visualization\n",
    "\n",
    "\n",
    "\n",
    "ax = visualization.plot_sample_numbers(history)\n"
   ]
  },
  {
   "cell_type": "code",
   "execution_count": 19,
   "metadata": {},
   "outputs": [
    {
     "data": {
      "image/png": "[encoded data removed]",
      "text/plain": [
       "<Figure size 432x288 with 1 Axes>"
      ]
     },
     "metadata": {
      "needs_background": "light"
     },
     "output_type": "display_data"
    }
   ],
   "source": [
    "ax = visualization.plot_epsilons(history)\n",
    "\n"
   ]
  },
  {
   "cell_type": "code",
   "execution_count": 20,
   "metadata": {},
   "outputs": [
    {
     "data": {
      "image/png": "[encoded data removed]",
      "text/plain": [
       "<Figure size 432x288 with 1 Axes>"
      ]
     },
     "metadata": {
      "needs_background": "light"
     },
     "output_type": "display_data"
    }
   ],
   "source": [
    "ax = visualization.plot_effective_sample_sizes(history)\n"
   ]
  },
  {
   "cell_type": "markdown",
   "metadata": {},
   "source": [
    "The initially chosen population size was adapted to the desired target accuracy.\n",
    "A larger population size was automatically selected by pyABC while both models were still alive. The population size decreased during the later populations thereby saving computational time."
   ]
  }
 ],
 "metadata": {
  "celltoolbar": "Raw Cell Format",
  "kernelspec": {
   "display_name": "Python 3",
   "language": "python",
   "name": "python3"
  },
  "language_info": {
   "codemirror_mode": {
    "name": "ipython",
    "version": 3
   },
   "file_extension": ".py",
   "mimetype": "text/x-python",
   "name": "python",
   "nbconvert_exporter": "python",
   "pygments_lexer": "ipython3",
   "version": "3.7.5"
  }
 },
 "nbformat": 4,
 "nbformat_minor": 4
}
